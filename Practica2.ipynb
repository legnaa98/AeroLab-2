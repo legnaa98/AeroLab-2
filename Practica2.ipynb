{
 "cells": [
  {
   "cell_type": "code",
   "execution_count": 97,
   "metadata": {},
   "outputs": [],
   "source": [
    "#!/usr/bin/env python\n",
    "# -*- coding: utf-8 -*-\n",
    "\n",
    "%matplotlib inline\n",
    "from matplotlib import rc\n",
    "import matplotlib.pyplot as plt\n",
    "from numpy import *\n",
    "import pandas as pd\n",
    "import scipy.integrate\n",
    "from scipy import interpolate"
   ]
  },
  {
   "cell_type": "code",
   "execution_count": 119,
   "metadata": {},
   "outputs": [
    {
     "name": "stdout",
     "output_type": "stream",
     "text": [
      "Dynamic Pressure: 978.288521 Pa\n"
     ]
    }
   ],
   "source": [
    "# parameters of flight\n",
    "v_inf = 40.82 # m/s\n",
    "rho_inf = 1.174224 # kg/m3\n",
    "alppha = 0 # deg (°)\n",
    "chord = 180 # mm\n",
    "\n",
    "# import the data\n",
    "data = pd.read_csv('0deg.csv',sep=',')\n",
    "x_u = data['x_u']\n",
    "x_l = data['x_l']\n",
    "x_l = x_l[pd.notnull(x_l)] # clean NaN values\n",
    "x_uc = divide(x_u,chord) # normalize chord\n",
    "x_lc = divide(x_l,chord) # normalize chord\n",
    "\n",
    "# pressure differences of upper and lower surface (p-p_inf)\n",
    "dp_u = data['dp_u']\n",
    "dp_l = data['dp_l']\n",
    "dp_l = dp_l[pd.notnull(dp_l)] # clean NaN values\n",
    "\n",
    "# free-stream dynamic pressure\n",
    "q_inf = 1/2*rho_inf*v_inf**2  # Pa\n",
    "print('Dynamic Pressure: %f Pa' %(q_inf))\n",
    "\n",
    "# pressure coefficient computation for uppen and lower surface\n",
    "Cp_u = divide(dp_u,q_inf)\n",
    "Cp_l = divide(dp_l,q_inf)\n",
    "\n",
    "#print(Cp_u,Cp_l)"
   ]
  },
  {
   "cell_type": "code",
   "execution_count": 120,
   "metadata": {},
   "outputs": [
    {
     "data": {
      "image/png": "[encoded data removed]",
      "text/plain": [
       "<Figure size 432x288 with 1 Axes>"
      ]
     },
     "metadata": {
      "needs_background": "light"
     },
     "output_type": "display_data"
    }
   ],
   "source": [
    "# Lift coefficient calculation\n",
    "\n",
    "deg = 3 # degree of interpolating polynomial\n",
    "k = 50\n",
    "x_cont_u = linspace(x_uc[0],x_uc.iloc[-1],k)\n",
    "x_cont_l = linspace(x_lc[0],x_lc.iloc[-1],k)\n",
    "\n",
    "# INTERPORLATION ~~~~~~~~~~~~~~~~~~~~~~~~~~~\n",
    "f_u = interpolate.interp1d(x_uc,Cp_u,deg,fill_value='extrapolate',bounds_error=False)\n",
    "f_l = interpolate.interp1d(x_lc,Cp_l,deg,fill_value='extrapolate',bounds_error=False)\n",
    "\n",
    "y_u = f_u(x_cont_u)\n",
    "y_l = f_l(x_cont_l)\n",
    "\n",
    "# Lagrange for the last 3 points\n",
    "m = len(x_uc)-1\n",
    "xf_u = x_uc[m-4:m+1]\n",
    "cp_u = Cp_u[m-4:m+1]\n",
    "\n",
    "g = interpolate.lagrange(x_lc,Cp_l)\n",
    "y_lTE = g(x_cont_l)\n",
    "#~~~~~~~~~~~~~~~~~~~~~~~~~~~~~~~~~~~~~~~~~~~~\n",
    "\n",
    "plt.rc('text', usetex=True)\n",
    "plt.scatter(x_uc, Cp_u)\n",
    "plt.scatter(x_lc, Cp_l)\n",
    "plt.plot(x_cont_u,y_u,'k-')\n",
    "plt.plot(x_cont_l,y_l,'k-')\n",
    "plt.xlabel('$x/c$')\n",
    "plt.ylabel('$C_{p}$')\n",
    "plt.title('$AoA$ = %iº'%(alppha))\n",
    "plt.gca().invert_yaxis() # invert Y-axis by aerodynamic convention"
   ]
  },
  {
   "cell_type": "code",
   "execution_count": 121,
   "metadata": {},
   "outputs": [
    {
     "name": "stdout",
     "output_type": "stream",
     "text": [
      "Lift Coefficient:\n",
      "0.26575367132244987\n",
      "Lift:\n",
      "46.797078 N\n"
     ]
    }
   ],
   "source": [
    "# integrate over interpolated curve\n",
    "upp_int = scipy.integrate.trapz(x_cont_u,y_u)\n",
    "low_int = scipy.integrate.trapz(x_cont_l,y_l)\n",
    "Cl = upp_int-low_int\n",
    "print('Lift Coefficient:')\n",
    "print(Cl)\n",
    "L = q_inf*Cl*chord/1000\n",
    "print('Lift:\\n%f N' %(L))"
   ]
  },
  {
   "cell_type": "code",
   "execution_count": null,
   "metadata": {},
   "outputs": [],
   "source": []
  }
 ],
 "metadata": {
  "kernelspec": {
   "display_name": "Python 3",
   "language": "python",
   "name": "python3"
  },
  "language_info": {
   "codemirror_mode": {
    "name": "ipython",
    "version": 3
   },
   "file_extension": ".py",
   "mimetype": "text/x-python",
   "name": "python",
   "nbconvert_exporter": "python",
   "pygments_lexer": "ipython3",
   "version": "3.7.2"
  }
 },
 "nbformat": 4,
 "nbformat_minor": 2
}
